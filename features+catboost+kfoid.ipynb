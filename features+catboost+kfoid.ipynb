{
 "cells": [
  {
   "cell_type": "code",
   "execution_count": 12,
   "id": "104750d7",
   "metadata": {},
   "outputs": [],
   "source": [
    "################ CHARGEMENT ################\n",
    "import pandas as pd\n",
    "import numpy as np\n",
    "import catboost as cb\n",
    "from sklearn.model_selection import GroupKFold\n",
    "from sklearn.metrics import accuracy_score\n",
    "\n",
    "\n",
    "\n",
    "X_train = pd.read_csv('X_train.csv')\n",
    "y_train = pd.read_csv('y_train.csv')\n",
    "\n",
    "train_data = X_train.merge(y_train, on='ROW_ID')\n",
    "test_data = pd.read_csv('X_test.csv')"
   ]
  },
  {
   "cell_type": "code",
   "execution_count": 13,
   "id": "919662d5",
   "metadata": {},
   "outputs": [],
   "source": [
    "################ FEATURES ################\n",
    "\n",
    "def create_all_features(df):\n",
    "    ret_cols = [f'RET_{i}' for i in range(1, 21)]\n",
    "    df['ret_mean_5d'] = df[ret_cols[:5]].mean(axis=1) \n",
    "    df['ret_std_5d'] = df[ret_cols[:5]].std(axis=1) \n",
    "    df['ret_mean_20d'] = df[ret_cols].mean(axis=1) \n",
    "    df['momentum_ratio_5_20'] = df['ret_mean_5d'] / (df['ret_mean_20d'] + 1e-6) \n",
    "    rolling_std = df[ret_cols].T.rolling(window=3).std().T # une espece de volatilité sur fenetre glissante de 3 jours\n",
    "    df['meta_volatility'] = rolling_std.std(axis=1) # la vola de cette vola : indice de stabilité\n",
    "    df['interaction_ret_turnover'] = df['ret_mean_5d'] * df['AVG_DAILY_TURNOVER']\n",
    "    return df\n",
    "\n",
    "train_data = create_all_features(train_data)\n",
    "test_data = create_all_features(test_data)\n"
   ]
  },
  {
   "cell_type": "code",
   "execution_count": 7,
   "id": "80a82484",
   "metadata": {},
   "outputs": [
    {
     "data": {
      "text/plain": [
       "Index(['ROW_ID', 'TS', 'ALLOCATION', 'RET_20', 'RET_19', 'RET_18', 'RET_17',\n",
       "       'RET_16', 'RET_15', 'RET_14', 'RET_13', 'RET_12', 'RET_11', 'RET_10',\n",
       "       'RET_9', 'RET_8', 'RET_7', 'RET_6', 'RET_5', 'RET_4', 'RET_3', 'RET_2',\n",
       "       'RET_1', 'SIGNED_VOLUME_20', 'SIGNED_VOLUME_19', 'SIGNED_VOLUME_18',\n",
       "       'SIGNED_VOLUME_17', 'SIGNED_VOLUME_16', 'SIGNED_VOLUME_15',\n",
       "       'SIGNED_VOLUME_14', 'SIGNED_VOLUME_13', 'SIGNED_VOLUME_12',\n",
       "       'SIGNED_VOLUME_11', 'SIGNED_VOLUME_10', 'SIGNED_VOLUME_9',\n",
       "       'SIGNED_VOLUME_8', 'SIGNED_VOLUME_7', 'SIGNED_VOLUME_6',\n",
       "       'SIGNED_VOLUME_5', 'SIGNED_VOLUME_4', 'SIGNED_VOLUME_3',\n",
       "       'SIGNED_VOLUME_2', 'SIGNED_VOLUME_1', 'AVG_DAILY_TURNOVER', 'target',\n",
       "       'ret_mean_5d', 'ret_std_5d', 'ret_mean_20d', 'momentum_ratio_5_20',\n",
       "       'meta_volatility', 'interaction_ret_turnover', 'y_binary'],\n",
       "      dtype='object')"
      ]
     },
     "execution_count": 7,
     "metadata": {},
     "output_type": "execute_result"
    }
   ],
   "source": [
    "train_data.columns"
   ]
  },
  {
   "cell_type": "code",
   "execution_count": 14,
   "id": "20d62341",
   "metadata": {},
   "outputs": [
    {
     "name": "stdout",
     "output_type": "stream",
     "text": [
      "['TS', 'ALLOCATION', 'AVG_DAILY_TURNOVER', 'ret_mean_5d', 'ret_std_5d', 'ret_mean_20d', 'momentum_ratio_5_20', 'meta_volatility', 'interaction_ret_turnover']\n",
      "Score du Fold 1: 0.5249584947426674\n",
      "Score du Fold 2: 0.5280575539568345\n"
     ]
    },
    {
     "ename": "KeyboardInterrupt",
     "evalue": "",
     "output_type": "error",
     "traceback": [
      "\u001b[31m---------------------------------------------------------------------------\u001b[39m",
      "\u001b[31mKeyboardInterrupt\u001b[39m                         Traceback (most recent call last)",
      "\u001b[36mCell\u001b[39m\u001b[36m \u001b[39m\u001b[32mIn[14]\u001b[39m\u001b[32m, line 52\u001b[39m\n\u001b[32m     46\u001b[39m \u001b[38;5;66;03m# TO DO : Optuna ?\u001b[39;00m\n\u001b[32m     47\u001b[39m model = cb.CatBoostClassifier(\n\u001b[32m     48\u001b[39m     iterations=\u001b[32m2000\u001b[39m, learning_rate=\u001b[32m0.015\u001b[39m, depth=\u001b[32m6\u001b[39m, l2_leaf_reg=\u001b[32m4\u001b[39m,\n\u001b[32m     49\u001b[39m     loss_function=\u001b[33m'\u001b[39m\u001b[33mLogloss\u001b[39m\u001b[33m'\u001b[39m, eval_metric=\u001b[33m'\u001b[39m\u001b[33mAccuracy\u001b[39m\u001b[33m'\u001b[39m,\n\u001b[32m     50\u001b[39m     random_seed=fold, verbose=\u001b[32m0\u001b[39m, early_stopping_rounds=\u001b[32m150\u001b[39m\n\u001b[32m     51\u001b[39m )\n\u001b[32m---> \u001b[39m\u001b[32m52\u001b[39m \u001b[43mmodel\u001b[49m\u001b[43m.\u001b[49m\u001b[43mfit\u001b[49m\u001b[43m(\u001b[49m\u001b[43mX_train\u001b[49m\u001b[43m,\u001b[49m\u001b[43m \u001b[49m\u001b[43my_train\u001b[49m\u001b[43m,\u001b[49m\u001b[43m \u001b[49m\u001b[43mcat_features\u001b[49m\u001b[43m=\u001b[49m\u001b[43mcategorical_features\u001b[49m\u001b[43m,\u001b[49m\u001b[43m \u001b[49m\u001b[43meval_set\u001b[49m\u001b[43m=\u001b[49m\u001b[43m(\u001b[49m\u001b[43mX_val\u001b[49m\u001b[43m,\u001b[49m\u001b[43m \u001b[49m\u001b[43my_val\u001b[49m\u001b[43m)\u001b[49m\u001b[43m)\u001b[49m\n\u001b[32m     54\u001b[39m val_preds = model.predict(X_val)\n\u001b[32m     55\u001b[39m oof_preds[val_idx] = val_preds.flatten()\n",
      "\u001b[36mFile \u001b[39m\u001b[32m~/Downloads/qrt-asset-allocation-performance-forecasting/.venv/lib/python3.13/site-packages/catboost/core.py:5245\u001b[39m, in \u001b[36mCatBoostClassifier.fit\u001b[39m\u001b[34m(self, X, y, cat_features, text_features, embedding_features, graph, sample_weight, baseline, use_best_model, eval_set, verbose, logging_level, plot, plot_file, column_description, verbose_eval, metric_period, silent, early_stopping_rounds, save_snapshot, snapshot_file, snapshot_interval, init_model, callbacks, log_cout, log_cerr)\u001b[39m\n\u001b[32m   5242\u001b[39m \u001b[38;5;28;01mif\u001b[39;00m \u001b[33m'\u001b[39m\u001b[33mloss_function\u001b[39m\u001b[33m'\u001b[39m \u001b[38;5;129;01min\u001b[39;00m params:\n\u001b[32m   5243\u001b[39m     CatBoostClassifier._check_is_compatible_loss(params[\u001b[33m'\u001b[39m\u001b[33mloss_function\u001b[39m\u001b[33m'\u001b[39m])\n\u001b[32m-> \u001b[39m\u001b[32m5245\u001b[39m \u001b[38;5;28;43mself\u001b[39;49m\u001b[43m.\u001b[49m\u001b[43m_fit\u001b[49m\u001b[43m(\u001b[49m\u001b[43mX\u001b[49m\u001b[43m,\u001b[49m\u001b[43m \u001b[49m\u001b[43my\u001b[49m\u001b[43m,\u001b[49m\u001b[43m \u001b[49m\u001b[43mcat_features\u001b[49m\u001b[43m,\u001b[49m\u001b[43m \u001b[49m\u001b[43mtext_features\u001b[49m\u001b[43m,\u001b[49m\u001b[43m \u001b[49m\u001b[43membedding_features\u001b[49m\u001b[43m,\u001b[49m\u001b[43m \u001b[49m\u001b[38;5;28;43;01mNone\u001b[39;49;00m\u001b[43m,\u001b[49m\u001b[43m \u001b[49m\u001b[43mgraph\u001b[49m\u001b[43m,\u001b[49m\u001b[43m \u001b[49m\u001b[43msample_weight\u001b[49m\u001b[43m,\u001b[49m\u001b[43m \u001b[49m\u001b[38;5;28;43;01mNone\u001b[39;49;00m\u001b[43m,\u001b[49m\u001b[43m \u001b[49m\u001b[38;5;28;43;01mNone\u001b[39;49;00m\u001b[43m,\u001b[49m\u001b[43m \u001b[49m\u001b[38;5;28;43;01mNone\u001b[39;49;00m\u001b[43m,\u001b[49m\u001b[43m \u001b[49m\u001b[38;5;28;43;01mNone\u001b[39;49;00m\u001b[43m,\u001b[49m\u001b[43m \u001b[49m\u001b[43mbaseline\u001b[49m\u001b[43m,\u001b[49m\u001b[43m \u001b[49m\u001b[43muse_best_model\u001b[49m\u001b[43m,\u001b[49m\n\u001b[32m   5246\u001b[39m \u001b[43m          \u001b[49m\u001b[43meval_set\u001b[49m\u001b[43m,\u001b[49m\u001b[43m \u001b[49m\u001b[43mverbose\u001b[49m\u001b[43m,\u001b[49m\u001b[43m \u001b[49m\u001b[43mlogging_level\u001b[49m\u001b[43m,\u001b[49m\u001b[43m \u001b[49m\u001b[43mplot\u001b[49m\u001b[43m,\u001b[49m\u001b[43m \u001b[49m\u001b[43mplot_file\u001b[49m\u001b[43m,\u001b[49m\u001b[43m \u001b[49m\u001b[43mcolumn_description\u001b[49m\u001b[43m,\u001b[49m\u001b[43m \u001b[49m\u001b[43mverbose_eval\u001b[49m\u001b[43m,\u001b[49m\u001b[43m \u001b[49m\u001b[43mmetric_period\u001b[49m\u001b[43m,\u001b[49m\n\u001b[32m   5247\u001b[39m \u001b[43m          \u001b[49m\u001b[43msilent\u001b[49m\u001b[43m,\u001b[49m\u001b[43m \u001b[49m\u001b[43mearly_stopping_rounds\u001b[49m\u001b[43m,\u001b[49m\u001b[43m \u001b[49m\u001b[43msave_snapshot\u001b[49m\u001b[43m,\u001b[49m\u001b[43m \u001b[49m\u001b[43msnapshot_file\u001b[49m\u001b[43m,\u001b[49m\u001b[43m \u001b[49m\u001b[43msnapshot_interval\u001b[49m\u001b[43m,\u001b[49m\u001b[43m \u001b[49m\u001b[43minit_model\u001b[49m\u001b[43m,\u001b[49m\u001b[43m \u001b[49m\u001b[43mcallbacks\u001b[49m\u001b[43m,\u001b[49m\u001b[43m \u001b[49m\u001b[43mlog_cout\u001b[49m\u001b[43m,\u001b[49m\u001b[43m \u001b[49m\u001b[43mlog_cerr\u001b[49m\u001b[43m)\u001b[49m\n\u001b[32m   5248\u001b[39m \u001b[38;5;28;01mreturn\u001b[39;00m \u001b[38;5;28mself\u001b[39m\n",
      "\u001b[36mFile \u001b[39m\u001b[32m~/Downloads/qrt-asset-allocation-performance-forecasting/.venv/lib/python3.13/site-packages/catboost/core.py:2410\u001b[39m, in \u001b[36mCatBoost._fit\u001b[39m\u001b[34m(self, X, y, cat_features, text_features, embedding_features, pairs, graph, sample_weight, group_id, group_weight, subgroup_id, pairs_weight, baseline, use_best_model, eval_set, verbose, logging_level, plot, plot_file, column_description, verbose_eval, metric_period, silent, early_stopping_rounds, save_snapshot, snapshot_file, snapshot_interval, init_model, callbacks, log_cout, log_cerr)\u001b[39m\n\u001b[32m   2407\u001b[39m allow_clear_pool = train_params[\u001b[33m\"\u001b[39m\u001b[33mallow_clear_pool\u001b[39m\u001b[33m\"\u001b[39m]\n\u001b[32m   2409\u001b[39m \u001b[38;5;28;01mwith\u001b[39;00m plot_wrapper(plot, plot_file, \u001b[33m'\u001b[39m\u001b[33mTraining plots\u001b[39m\u001b[33m'\u001b[39m, [_get_train_dir(\u001b[38;5;28mself\u001b[39m.get_params())]):\n\u001b[32m-> \u001b[39m\u001b[32m2410\u001b[39m     \u001b[38;5;28;43mself\u001b[39;49m\u001b[43m.\u001b[49m\u001b[43m_train\u001b[49m\u001b[43m(\u001b[49m\n\u001b[32m   2411\u001b[39m \u001b[43m        \u001b[49m\u001b[43mtrain_pool\u001b[49m\u001b[43m,\u001b[49m\n\u001b[32m   2412\u001b[39m \u001b[43m        \u001b[49m\u001b[43mtrain_params\u001b[49m\u001b[43m[\u001b[49m\u001b[33;43m\"\u001b[39;49m\u001b[33;43meval_sets\u001b[39;49m\u001b[33;43m\"\u001b[39;49m\u001b[43m]\u001b[49m\u001b[43m,\u001b[49m\n\u001b[32m   2413\u001b[39m \u001b[43m        \u001b[49m\u001b[43mparams\u001b[49m\u001b[43m,\u001b[49m\n\u001b[32m   2414\u001b[39m \u001b[43m        \u001b[49m\u001b[43mallow_clear_pool\u001b[49m\u001b[43m,\u001b[49m\n\u001b[32m   2415\u001b[39m \u001b[43m        \u001b[49m\u001b[43mtrain_params\u001b[49m\u001b[43m[\u001b[49m\u001b[33;43m\"\u001b[39;49m\u001b[33;43minit_model\u001b[39;49m\u001b[33;43m\"\u001b[39;49m\u001b[43m]\u001b[49m\n\u001b[32m   2416\u001b[39m \u001b[43m    \u001b[49m\u001b[43m)\u001b[49m\n\u001b[32m   2418\u001b[39m \u001b[38;5;66;03m# Have property feature_importance possibly set\u001b[39;00m\n\u001b[32m   2419\u001b[39m loss = \u001b[38;5;28mself\u001b[39m._object._get_loss_function_name()\n",
      "\u001b[36mFile \u001b[39m\u001b[32m~/Downloads/qrt-asset-allocation-performance-forecasting/.venv/lib/python3.13/site-packages/catboost/core.py:1790\u001b[39m, in \u001b[36m_CatBoostBase._train\u001b[39m\u001b[34m(self, train_pool, test_pool, params, allow_clear_pool, init_model)\u001b[39m\n\u001b[32m   1789\u001b[39m \u001b[38;5;28;01mdef\u001b[39;00m\u001b[38;5;250m \u001b[39m\u001b[34m_train\u001b[39m(\u001b[38;5;28mself\u001b[39m, train_pool, test_pool, params, allow_clear_pool, init_model):\n\u001b[32m-> \u001b[39m\u001b[32m1790\u001b[39m     \u001b[38;5;28;43mself\u001b[39;49m\u001b[43m.\u001b[49m\u001b[43m_object\u001b[49m\u001b[43m.\u001b[49m\u001b[43m_train\u001b[49m\u001b[43m(\u001b[49m\u001b[43mtrain_pool\u001b[49m\u001b[43m,\u001b[49m\u001b[43m \u001b[49m\u001b[43mtest_pool\u001b[49m\u001b[43m,\u001b[49m\u001b[43m \u001b[49m\u001b[43mparams\u001b[49m\u001b[43m,\u001b[49m\u001b[43m \u001b[49m\u001b[43mallow_clear_pool\u001b[49m\u001b[43m,\u001b[49m\u001b[43m \u001b[49m\u001b[43minit_model\u001b[49m\u001b[43m.\u001b[49m\u001b[43m_object\u001b[49m\u001b[43m \u001b[49m\u001b[38;5;28;43;01mif\u001b[39;49;00m\u001b[43m \u001b[49m\u001b[43minit_model\u001b[49m\u001b[43m \u001b[49m\u001b[38;5;28;43;01melse\u001b[39;49;00m\u001b[43m \u001b[49m\u001b[38;5;28;43;01mNone\u001b[39;49;00m\u001b[43m)\u001b[49m\n\u001b[32m   1791\u001b[39m     \u001b[38;5;28mself\u001b[39m._set_trained_model_attributes()\n",
      "\u001b[36mFile \u001b[39m\u001b[32m_catboost.pyx:5023\u001b[39m, in \u001b[36m_catboost._CatBoost._train\u001b[39m\u001b[34m()\u001b[39m\n",
      "\u001b[36mFile \u001b[39m\u001b[32m_catboost.pyx:5072\u001b[39m, in \u001b[36m_catboost._CatBoost._train\u001b[39m\u001b[34m()\u001b[39m\n",
      "\u001b[31mKeyboardInterrupt\u001b[39m: "
     ]
    }
   ],
   "source": [
    "################ TRAINING ################\n",
    "\n",
    "train_data['y_binary'] = (train_data['target'] > 0).astype(int)\n",
    "\n",
    "# features = les RET_i + les SIGNED_VOLUME_i + ds la partie FEATURES\n",
    "original_ts_cols = [f'RET_{i}' for i in range(1, 21)] + [f'SIGNED_VOLUME_{i}' for i in range(1, 21)]\n",
    "features_to_use = [col for col in train_data.columns if col not in (['ROW_ID', 'target', 'y_binary'] + original_ts_cols)]\n",
    "\n",
    "# features_to_use = [\n",
    "#     \"TS\", \"ALLOCATION\", \"AVG_DAILY_TURNOVER\", \"ret_mean_5d\", \"ret_std_5d\",\n",
    "#     'ret_mean_20d', 'momentum_ratio_5_20', 'meta_volatility',\n",
    "#     'interaction_ret_turnover', \"vol_mean_5d\", \"vol_std_5d\"\n",
    "# ]\n",
    "\n",
    "X = train_data[features_to_use].copy()\n",
    "y = train_data['y_binary']\n",
    "groups = train_data['TS']\n",
    "X_test = test_data[features_to_use].copy()\n",
    "\n",
    "X.fillna(0, inplace=True)\n",
    "X_test.fillna(0, inplace=True)\n",
    "\n",
    "print(features_to_use)\n",
    "N_SPLITS = 20 # TO CHECK : à augmenter? \n",
    "gkf = GroupKFold(n_splits=N_SPLITS)\n",
    "test_preds = []\n",
    "oof_preds = np.zeros(len(X))\n",
    "\n",
    "for fold, (train_idx, val_idx) in enumerate(gkf.split(X, y, groups=groups)):\n",
    "    X_train, y_train = X.iloc[train_idx].copy(), y.iloc[train_idx].copy()\n",
    "    X_val, y_val = X.iloc[val_idx].copy(), y.iloc[val_idx].copy()\n",
    "    \n",
    "    features_to_process = ['ret_mean_5d', 'momentum_ratio_5_20', 'interaction_ret_turnover']\n",
    "    for feature in features_to_process:\n",
    "        market_map = X_train.groupby('TS')[feature].mean()\n",
    "        # ici on va comparer X_train à toutes les lignes d'une meme TS \n",
    "        X_train[f'diff_from_market_{feature}'] = X_train[feature] - X_train['TS'].map(market_map)\n",
    "        X_val[f'diff_from_market_{feature}'] = X_val[feature] - X_val['TS'].map(market_map)\n",
    "        X_train[f'{feature}_rank'] = X_train.groupby('TS')[feature].rank(pct=True)\n",
    "        X_val[f'{feature}_rank'] = X_val.groupby('TS')[feature].rank(pct=True)\n",
    "\n",
    "    X_train.fillna(0, inplace=True)\n",
    "    X_val.fillna(0, inplace=True)\n",
    "    \n",
    "    categorical_features = ['ALLOCATION', 'TS']\n",
    "    # TO DO : Optuna ?\n",
    "    model = cb.CatBoostClassifier(\n",
    "        iterations=2000, learning_rate=0.015, depth=6, l2_leaf_reg=4,\n",
    "        loss_function='Logloss', eval_metric='Accuracy',\n",
    "        random_seed=fold, verbose=0, early_stopping_rounds=150\n",
    "    )\n",
    "    model.fit(X_train, y_train, cat_features=categorical_features, eval_set=(X_val, y_val))\n",
    "    \n",
    "    val_preds = model.predict(X_val)\n",
    "    oof_preds[val_idx] = val_preds.flatten()\n",
    "    print(f\"Score du Fold {fold+1}: {accuracy_score(y_val, val_preds)}\")\n",
    "    \n",
    "    # pareil pour X_test\n",
    "    X_test_fold = X_test.copy()\n",
    "    for feature in features_to_process:\n",
    "        market_map = X_train.groupby('TS')[feature].mean()\n",
    "        X_test_fold[f'diff_from_market_{feature}'] = X_test_fold[feature] - X_test_fold['TS'].map(market_map)\n",
    "        X_test_fold[f'{feature}_rank'] = X_test_fold.groupby('TS')[feature].rank(pct=True)\n",
    "    X_test_fold.fillna(0, inplace=True)\n",
    "\n",
    "    preds = model.predict_proba(X_test_fold)[:, 1]\n",
    "    test_preds.append(preds)\n",
    "\n",
    "final_score = accuracy_score(y, oof_preds)\n",
    "print(f\"Score CV global sur {N_SPLITS} Folds : {final_score}\")"
   ]
  },
  {
   "cell_type": "code",
   "execution_count": null,
   "id": "e4d0237f",
   "metadata": {},
   "outputs": [],
   "source": [
    "['TS', 'ALLOCATION', 'AVG_DAILY_TURNOVER', 'ret_mean_5d', 'ret_std_5d', 'ret_mean_20d', 'momentum_ratio_5_20', 'meta_volatility', 'interaction_ret_turnover']\n",
    "Score du Fold 1: 0.5249584947426674\n",
    "Score du Fold 2: 0.5280575539568345\n",
    "Score du Fold 3: 0.5337022689540675\n",
    "Score du Fold 4: 0.5327061427780853\n",
    "Score du Fold 5: 0.521306032097399\n",
    "Score du Fold 6: 0.5176535694521306\n",
    "Score du Fold 7: 0.52174875484228\n",
    "Score du Fold 8: 0.5158826784726065\n",
    "Score du Fold 9: 0.5315993359158827\n",
    "Score du Fold 10: 0.543884892086331\n",
    "Score du Fold 11: 0.5227448810182623\n",
    "Score du Fold 12: 0.5167681239623686\n",
    "Score du Fold 13: 0.533923630326508\n",
    "Score du Fold 14: 0.5100334448160535\n",
    "Score du Fold 15: 0.5307692307692308\n",
    "Score du Fold 16: 0.5216276477146042\n",
    "Score du Fold 17: 0.5220735785953178\n",
    "Score du Fold 18: 0.526644370122631\n",
    "Score du Fold 19: 0.5296544035674471\n",
    "Score du Fold 20: 0.5099219620958751\n",
    "Score CV global sur 20 Folds : 0.5247912563455297"
   ]
  },
  {
   "cell_type": "code",
   "execution_count": null,
   "id": "9b5ab8c7",
   "metadata": {},
   "outputs": [
    {
     "name": "stdout",
     "output_type": "stream",
     "text": [
      "                                      feature  importance\n",
      "0                                          TS   41.217718\n",
      "2                          AVG_DAILY_TURNOVER   15.632429\n",
      "1                                  ALLOCATION   11.788091\n",
      "5                                ret_mean_20d   10.004636\n",
      "10                           ret_mean_5d_rank    5.086727\n",
      "14              interaction_ret_turnover_rank    4.816476\n",
      "9                diff_from_market_ret_mean_5d    4.803442\n",
      "8                    interaction_ret_turnover    1.948992\n",
      "3                                 ret_mean_5d    1.854604\n",
      "13  diff_from_market_interaction_ret_turnover    1.626853\n",
      "4                                  ret_std_5d    0.419053\n",
      "7                             meta_volatility    0.372108\n",
      "6                         momentum_ratio_5_20    0.251686\n",
      "12                   momentum_ratio_5_20_rank    0.119882\n",
      "11       diff_from_market_momentum_ratio_5_20    0.057302\n"
     ]
    }
   ],
   "source": [
    "feature_importances = model.get_feature_importance()\n",
    "importance_df = pd.DataFrame({\n",
    "    'feature': model.feature_names_,\n",
    "    'importance': feature_importances\n",
    "}).sort_values('importance', ascending=False)\n",
    "\n",
    "print(importance_df)"
   ]
  },
  {
   "cell_type": "code",
   "execution_count": 9,
   "id": "559f6b80",
   "metadata": {},
   "outputs": [],
   "source": [
    "################ SUBMIT ################\n",
    "\n",
    "final_predictions_proba = np.mean(test_preds, axis=0)\n",
    "final_predictions = (final_predictions_proba > 0.5).astype(int)\n",
    "\n",
    "submission = pd.DataFrame({'ROW_ID': test_data['ROW_ID'], 'prediction': final_predictions})\n",
    "\n",
    "submission.to_csv('submission20_with_new_features.csv', index=False) \n"
   ]
  },
  {
   "cell_type": "code",
   "execution_count": null,
   "id": "bcfe595d",
   "metadata": {},
   "outputs": [],
   "source": [
    "(submission[\"prediction\"]==1).sum()"
   ]
  },
  {
   "cell_type": "code",
   "execution_count": null,
   "id": "cfc50879",
   "metadata": {},
   "outputs": [],
   "source": []
  }
 ],
 "metadata": {
  "kernelspec": {
   "display_name": ".venv",
   "language": "python",
   "name": "python3"
  },
  "language_info": {
   "codemirror_mode": {
    "name": "ipython",
    "version": 3
   },
   "file_extension": ".py",
   "mimetype": "text/x-python",
   "name": "python",
   "nbconvert_exporter": "python",
   "pygments_lexer": "ipython3",
   "version": "3.13.7"
  }
 },
 "nbformat": 4,
 "nbformat_minor": 5
}
