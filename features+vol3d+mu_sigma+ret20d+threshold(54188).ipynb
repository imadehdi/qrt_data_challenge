{
 "cells": [
  {
   "cell_type": "code",
   "execution_count": 21,
   "id": "e4f94422",
   "metadata": {},
   "outputs": [],
   "source": [
    "################ CHARGEMENT ################\n",
    "\n",
    "import pandas as pd\n",
    "import numpy as np\n",
    "import catboost as cb\n",
    "from sklearn.model_selection import GroupKFold\n",
    "from sklearn.metrics import accuracy_score\n",
    "\n",
    "\n",
    "X_train_df = pd.read_csv('X_train.csv')\n",
    "y_train_df = pd.read_csv('y_train.csv')\n",
    "\n",
    "train_data = X_train_df.merge(y_train_df, on='ROW_ID')\n",
    "test_data = pd.read_csv('X_test.csv')"
   ]
  },
  {
   "cell_type": "code",
   "execution_count": 22,
   "id": "8938a004",
   "metadata": {},
   "outputs": [],
   "source": [
    "################ FEATURES part1 : mu et sigma ################\n",
    "\n",
    "def mle_params_all_from_group(g, r_cols, delta_t=1.0):\n",
    "    \"\"\"Calcule les paramètres mu et sigma pour un groupe d'allocation.\"\"\"\n",
    "    arr = g[r_cols].to_numpy(dtype=float)\n",
    "    mean_r = arr.mean()\n",
    "    var_r = arr.var(ddof=0)\n",
    "    sigma_hat = np.sqrt(var_r / delta_t)\n",
    "    mu_hat = (mean_r / delta_t) + 0.5 * (sigma_hat**2)\n",
    "    return pd.Series({\"mu_alloc\": mu_hat, \"sigma_alloc\": sigma_hat})\n",
    "\n",
    "def compute_allocation_param(df, r_cols, delta_t=1.0):\n",
    "    \"\"\"Applique le calcul de mu et sigma à toutes les allocations d'un dataframe.\"\"\"\n",
    "    out = (df.groupby(\"ALLOCATION\", observed=True)\n",
    "           .apply(lambda g: mle_params_all_from_group(g, r_cols, delta_t))\n",
    "           .reset_index()\n",
    "           )\n",
    "    return out"
   ]
  },
  {
   "cell_type": "code",
   "execution_count": 23,
   "id": "3aa7120d",
   "metadata": {},
   "outputs": [],
   "source": [
    "################ FEATURES part2 : ligne par ligne ################\n",
    "\n",
    "def create_base_features(df):\n",
    "    \"\"\"Crée les features de base calculées par ligne (row-wise).\"\"\"\n",
    "    ret_cols = [f'RET_{i}' for i in range(1, 21)]\n",
    "    vol_cols = [f'SIGNED_VOLUME_{i}' for i in range(1, 21)]\n",
    "    \n",
    "    df['ret_mean_5d'] = df[ret_cols[:5]].mean(axis=1)\n",
    "    # df['ret_std_5d'] = df[ret_cols[:5]].std(axis=1)\n",
    "    df['ret_mean_20d'] = df[ret_cols].mean(axis=1)\n",
    "    df['momentum_ratio_5_20'] = df['ret_mean_5d'] / (df['ret_mean_20d'] + 1e-6)\n",
    "\n",
    "    df['vol_mean_3d'] = df[vol_cols[:3]].mean(axis=1)\n",
    "    rolling_std = df[ret_cols].T.rolling(window=3).std().T\n",
    "    df['meta_volatility'] = rolling_std.std(axis=1)\n",
    "    df['interaction_ret_turnover'] = df['ret_mean_5d'] * df['AVG_DAILY_TURNOVER']\n",
    "    return df\n",
    "\n",
    "train_data = create_base_features(train_data)\n",
    "test_data = create_base_features(test_data)\n",
    "train_data['y_binary'] = (train_data['target'] > 0).astype(int)\n"
   ]
  },
  {
   "cell_type": "code",
   "execution_count": 25,
   "id": "9edf54de",
   "metadata": {},
   "outputs": [
    {
     "name": "stdout",
     "output_type": "stream",
     "text": [
      "['TS', 'ALLOCATION', 'AVG_DAILY_TURNOVER', 'ret_mean_5d', 'ret_mean_20d', 'momentum_ratio_5_20', 'vol_mean_3d', 'meta_volatility', 'interaction_ret_turnover']\n"
     ]
    },
    {
     "name": "stderr",
     "output_type": "stream",
     "text": [
      "/var/folders/yp/c6z3dm3s1s1dx6tz47yy15gc0000gn/T/ipykernel_27073/3182933904.py:15: FutureWarning: DataFrameGroupBy.apply operated on the grouping columns. This behavior is deprecated, and in a future version of pandas the grouping columns will be excluded from the operation. Either pass `include_groups=False` to exclude the groupings or explicitly select the grouping columns after groupby to silence this warning.\n",
      "  .apply(lambda g: mle_params_all_from_group(g, r_cols, delta_t))\n"
     ]
    },
    {
     "name": "stdout",
     "output_type": "stream",
     "text": [
      "Score du Fold 1: 0.5224128389596016\n"
     ]
    },
    {
     "name": "stderr",
     "output_type": "stream",
     "text": [
      "/var/folders/yp/c6z3dm3s1s1dx6tz47yy15gc0000gn/T/ipykernel_27073/3182933904.py:15: FutureWarning: DataFrameGroupBy.apply operated on the grouping columns. This behavior is deprecated, and in a future version of pandas the grouping columns will be excluded from the operation. Either pass `include_groups=False` to exclude the groupings or explicitly select the grouping columns after groupby to silence this warning.\n",
      "  .apply(lambda g: mle_params_all_from_group(g, r_cols, delta_t))\n"
     ]
    },
    {
     "name": "stdout",
     "output_type": "stream",
     "text": [
      "Score du Fold 2: 0.5299391256225788\n"
     ]
    },
    {
     "name": "stderr",
     "output_type": "stream",
     "text": [
      "/var/folders/yp/c6z3dm3s1s1dx6tz47yy15gc0000gn/T/ipykernel_27073/3182933904.py:15: FutureWarning: DataFrameGroupBy.apply operated on the grouping columns. This behavior is deprecated, and in a future version of pandas the grouping columns will be excluded from the operation. Either pass `include_groups=False` to exclude the groupings or explicitly select the grouping columns after groupby to silence this warning.\n",
      "  .apply(lambda g: mle_params_all_from_group(g, r_cols, delta_t))\n"
     ]
    },
    {
     "name": "stdout",
     "output_type": "stream",
     "text": [
      "Score du Fold 3: 0.5303818483674598\n"
     ]
    },
    {
     "name": "stderr",
     "output_type": "stream",
     "text": [
      "/var/folders/yp/c6z3dm3s1s1dx6tz47yy15gc0000gn/T/ipykernel_27073/3182933904.py:15: FutureWarning: DataFrameGroupBy.apply operated on the grouping columns. This behavior is deprecated, and in a future version of pandas the grouping columns will be excluded from the operation. Either pass `include_groups=False` to exclude the groupings or explicitly select the grouping columns after groupby to silence this warning.\n",
      "  .apply(lambda g: mle_params_all_from_group(g, r_cols, delta_t))\n"
     ]
    },
    {
     "name": "stdout",
     "output_type": "stream",
     "text": [
      "Score du Fold 4: 0.5309352517985612\n"
     ]
    },
    {
     "name": "stderr",
     "output_type": "stream",
     "text": [
      "/var/folders/yp/c6z3dm3s1s1dx6tz47yy15gc0000gn/T/ipykernel_27073/3182933904.py:15: FutureWarning: DataFrameGroupBy.apply operated on the grouping columns. This behavior is deprecated, and in a future version of pandas the grouping columns will be excluded from the operation. Either pass `include_groups=False` to exclude the groupings or explicitly select the grouping columns after groupby to silence this warning.\n",
      "  .apply(lambda g: mle_params_all_from_group(g, r_cols, delta_t))\n"
     ]
    },
    {
     "name": "stdout",
     "output_type": "stream",
     "text": [
      "Score du Fold 5: 0.5163254012174876\n"
     ]
    },
    {
     "name": "stderr",
     "output_type": "stream",
     "text": [
      "/var/folders/yp/c6z3dm3s1s1dx6tz47yy15gc0000gn/T/ipykernel_27073/3182933904.py:15: FutureWarning: DataFrameGroupBy.apply operated on the grouping columns. This behavior is deprecated, and in a future version of pandas the grouping columns will be excluded from the operation. Either pass `include_groups=False` to exclude the groupings or explicitly select the grouping columns after groupby to silence this warning.\n",
      "  .apply(lambda g: mle_params_all_from_group(g, r_cols, delta_t))\n"
     ]
    },
    {
     "name": "stdout",
     "output_type": "stream",
     "text": [
      "Score du Fold 6: 0.5245157719977864\n"
     ]
    },
    {
     "name": "stderr",
     "output_type": "stream",
     "text": [
      "/var/folders/yp/c6z3dm3s1s1dx6tz47yy15gc0000gn/T/ipykernel_27073/3182933904.py:15: FutureWarning: DataFrameGroupBy.apply operated on the grouping columns. This behavior is deprecated, and in a future version of pandas the grouping columns will be excluded from the operation. Either pass `include_groups=False` to exclude the groupings or explicitly select the grouping columns after groupby to silence this warning.\n",
      "  .apply(lambda g: mle_params_all_from_group(g, r_cols, delta_t))\n"
     ]
    },
    {
     "name": "stdout",
     "output_type": "stream",
     "text": [
      "Score du Fold 7: 0.5174322080796901\n"
     ]
    },
    {
     "name": "stderr",
     "output_type": "stream",
     "text": [
      "/var/folders/yp/c6z3dm3s1s1dx6tz47yy15gc0000gn/T/ipykernel_27073/3182933904.py:15: FutureWarning: DataFrameGroupBy.apply operated on the grouping columns. This behavior is deprecated, and in a future version of pandas the grouping columns will be excluded from the operation. Either pass `include_groups=False` to exclude the groupings or explicitly select the grouping columns after groupby to silence this warning.\n",
      "  .apply(lambda g: mle_params_all_from_group(g, r_cols, delta_t))\n"
     ]
    },
    {
     "name": "stdout",
     "output_type": "stream",
     "text": [
      "Score du Fold 8: 0.5251798561151079\n"
     ]
    },
    {
     "name": "stderr",
     "output_type": "stream",
     "text": [
      "/var/folders/yp/c6z3dm3s1s1dx6tz47yy15gc0000gn/T/ipykernel_27073/3182933904.py:15: FutureWarning: DataFrameGroupBy.apply operated on the grouping columns. This behavior is deprecated, and in a future version of pandas the grouping columns will be excluded from the operation. Either pass `include_groups=False` to exclude the groupings or explicitly select the grouping columns after groupby to silence this warning.\n",
      "  .apply(lambda g: mle_params_all_from_group(g, r_cols, delta_t))\n"
     ]
    },
    {
     "name": "stdout",
     "output_type": "stream",
     "text": [
      "Score du Fold 9: 0.5319313779745435\n"
     ]
    },
    {
     "name": "stderr",
     "output_type": "stream",
     "text": [
      "/var/folders/yp/c6z3dm3s1s1dx6tz47yy15gc0000gn/T/ipykernel_27073/3182933904.py:15: FutureWarning: DataFrameGroupBy.apply operated on the grouping columns. This behavior is deprecated, and in a future version of pandas the grouping columns will be excluded from the operation. Either pass `include_groups=False` to exclude the groupings or explicitly select the grouping columns after groupby to silence this warning.\n",
      "  .apply(lambda g: mle_params_all_from_group(g, r_cols, delta_t))\n"
     ]
    },
    {
     "name": "stdout",
     "output_type": "stream",
     "text": [
      "Score du Fold 10: 0.5394576646375208\n"
     ]
    },
    {
     "name": "stderr",
     "output_type": "stream",
     "text": [
      "/var/folders/yp/c6z3dm3s1s1dx6tz47yy15gc0000gn/T/ipykernel_27073/3182933904.py:15: FutureWarning: DataFrameGroupBy.apply operated on the grouping columns. This behavior is deprecated, and in a future version of pandas the grouping columns will be excluded from the operation. Either pass `include_groups=False` to exclude the groupings or explicitly select the grouping columns after groupby to silence this warning.\n",
      "  .apply(lambda g: mle_params_all_from_group(g, r_cols, delta_t))\n"
     ]
    },
    {
     "name": "stdout",
     "output_type": "stream",
     "text": [
      "Score du Fold 11: 0.5234089651355839\n"
     ]
    },
    {
     "name": "stderr",
     "output_type": "stream",
     "text": [
      "/var/folders/yp/c6z3dm3s1s1dx6tz47yy15gc0000gn/T/ipykernel_27073/3182933904.py:15: FutureWarning: DataFrameGroupBy.apply operated on the grouping columns. This behavior is deprecated, and in a future version of pandas the grouping columns will be excluded from the operation. Either pass `include_groups=False` to exclude the groupings or explicitly select the grouping columns after groupby to silence this warning.\n",
      "  .apply(lambda g: mle_params_all_from_group(g, r_cols, delta_t))\n"
     ]
    },
    {
     "name": "stdout",
     "output_type": "stream",
     "text": [
      "Score du Fold 12: 0.5194244604316547\n"
     ]
    },
    {
     "name": "stderr",
     "output_type": "stream",
     "text": [
      "/var/folders/yp/c6z3dm3s1s1dx6tz47yy15gc0000gn/T/ipykernel_27073/3182933904.py:15: FutureWarning: DataFrameGroupBy.apply operated on the grouping columns. This behavior is deprecated, and in a future version of pandas the grouping columns will be excluded from the operation. Either pass `include_groups=False` to exclude the groupings or explicitly select the grouping columns after groupby to silence this warning.\n",
      "  .apply(lambda g: mle_params_all_from_group(g, r_cols, delta_t))\n"
     ]
    },
    {
     "name": "stdout",
     "output_type": "stream",
     "text": [
      "Score du Fold 13: 0.5370226895406751\n"
     ]
    },
    {
     "name": "stderr",
     "output_type": "stream",
     "text": [
      "/var/folders/yp/c6z3dm3s1s1dx6tz47yy15gc0000gn/T/ipykernel_27073/3182933904.py:15: FutureWarning: DataFrameGroupBy.apply operated on the grouping columns. This behavior is deprecated, and in a future version of pandas the grouping columns will be excluded from the operation. Either pass `include_groups=False` to exclude the groupings or explicitly select the grouping columns after groupby to silence this warning.\n",
      "  .apply(lambda g: mle_params_all_from_group(g, r_cols, delta_t))\n"
     ]
    },
    {
     "name": "stdout",
     "output_type": "stream",
     "text": [
      "Score du Fold 14: 0.5095875139353401\n"
     ]
    },
    {
     "name": "stderr",
     "output_type": "stream",
     "text": [
      "/var/folders/yp/c6z3dm3s1s1dx6tz47yy15gc0000gn/T/ipykernel_27073/3182933904.py:15: FutureWarning: DataFrameGroupBy.apply operated on the grouping columns. This behavior is deprecated, and in a future version of pandas the grouping columns will be excluded from the operation. Either pass `include_groups=False` to exclude the groupings or explicitly select the grouping columns after groupby to silence this warning.\n",
      "  .apply(lambda g: mle_params_all_from_group(g, r_cols, delta_t))\n"
     ]
    },
    {
     "name": "stdout",
     "output_type": "stream",
     "text": [
      "Score du Fold 15: 0.5238573021181717\n"
     ]
    },
    {
     "name": "stderr",
     "output_type": "stream",
     "text": [
      "/var/folders/yp/c6z3dm3s1s1dx6tz47yy15gc0000gn/T/ipykernel_27073/3182933904.py:15: FutureWarning: DataFrameGroupBy.apply operated on the grouping columns. This behavior is deprecated, and in a future version of pandas the grouping columns will be excluded from the operation. Either pass `include_groups=False` to exclude the groupings or explicitly select the grouping columns after groupby to silence this warning.\n",
      "  .apply(lambda g: mle_params_all_from_group(g, r_cols, delta_t))\n"
     ]
    },
    {
     "name": "stdout",
     "output_type": "stream",
     "text": [
      "Score du Fold 16: 0.5258639910813824\n"
     ]
    },
    {
     "name": "stderr",
     "output_type": "stream",
     "text": [
      "/var/folders/yp/c6z3dm3s1s1dx6tz47yy15gc0000gn/T/ipykernel_27073/3182933904.py:15: FutureWarning: DataFrameGroupBy.apply operated on the grouping columns. This behavior is deprecated, and in a future version of pandas the grouping columns will be excluded from the operation. Either pass `include_groups=False` to exclude the groupings or explicitly select the grouping columns after groupby to silence this warning.\n",
      "  .apply(lambda g: mle_params_all_from_group(g, r_cols, delta_t))\n"
     ]
    },
    {
     "name": "stdout",
     "output_type": "stream",
     "text": [
      "Score du Fold 17: 0.5124860646599777\n"
     ]
    },
    {
     "name": "stderr",
     "output_type": "stream",
     "text": [
      "/var/folders/yp/c6z3dm3s1s1dx6tz47yy15gc0000gn/T/ipykernel_27073/3182933904.py:15: FutureWarning: DataFrameGroupBy.apply operated on the grouping columns. This behavior is deprecated, and in a future version of pandas the grouping columns will be excluded from the operation. Either pass `include_groups=False` to exclude the groupings or explicitly select the grouping columns after groupby to silence this warning.\n",
      "  .apply(lambda g: mle_params_all_from_group(g, r_cols, delta_t))\n"
     ]
    },
    {
     "name": "stdout",
     "output_type": "stream",
     "text": [
      "Score du Fold 18: 0.5347826086956522\n"
     ]
    },
    {
     "name": "stderr",
     "output_type": "stream",
     "text": [
      "/var/folders/yp/c6z3dm3s1s1dx6tz47yy15gc0000gn/T/ipykernel_27073/3182933904.py:15: FutureWarning: DataFrameGroupBy.apply operated on the grouping columns. This behavior is deprecated, and in a future version of pandas the grouping columns will be excluded from the operation. Either pass `include_groups=False` to exclude the groupings or explicitly select the grouping columns after groupby to silence this warning.\n",
      "  .apply(lambda g: mle_params_all_from_group(g, r_cols, delta_t))\n"
     ]
    },
    {
     "name": "stdout",
     "output_type": "stream",
     "text": [
      "Score du Fold 19: 0.5276477146042363\n"
     ]
    },
    {
     "name": "stderr",
     "output_type": "stream",
     "text": [
      "/var/folders/yp/c6z3dm3s1s1dx6tz47yy15gc0000gn/T/ipykernel_27073/3182933904.py:15: FutureWarning: DataFrameGroupBy.apply operated on the grouping columns. This behavior is deprecated, and in a future version of pandas the grouping columns will be excluded from the operation. Either pass `include_groups=False` to exclude the groupings or explicitly select the grouping columns after groupby to silence this warning.\n",
      "  .apply(lambda g: mle_params_all_from_group(g, r_cols, delta_t))\n"
     ]
    },
    {
     "name": "stdout",
     "output_type": "stream",
     "text": [
      "Score du Fold 20: 0.512263099219621\n",
      "Score CV global sur 20 Folds (avec seuil 0.5) : 0.524752420316791\n"
     ]
    }
   ],
   "source": [
    "import pandas as pd\n",
    "import numpy as np\n",
    "import catboost as cb\n",
    "from sklearn.model_selection import GroupKFold\n",
    "from sklearn.metrics import accuracy_score\n",
    "\n",
    "\n",
    "original_ts_cols = [f'RET_{i}' for i in range(1, 21)] + [f'SIGNED_VOLUME_{i}' for i in range(1, 21)]\n",
    "final_features_to_use = [col for col in train_data.columns if col not in (['ROW_ID', 'target', 'y_binary'] + original_ts_cols)]\n",
    "\n",
    "N_SPLITS = 20\n",
    "gkf = GroupKFold(n_splits=N_SPLITS)\n",
    "test_preds = [] \n",
    "oof_preds_proba = np.zeros(len(train_data))\n",
    "return_cols = [f'RET_{i}' for i in range(1, 21)]\n",
    "\n",
    "print(final_features_to_use)\n",
    "for fold, (train_idx, val_idx) in enumerate(gkf.split(train_data, train_data['y_binary'], groups=train_data['TS'])):\n",
    "    train_fold_data = train_data.iloc[train_idx].copy()\n",
    "    val_fold_data = train_data.iloc[val_idx].copy()\n",
    "    \n",
    "    y_train = train_fold_data['y_binary']\n",
    "    y_val = val_fold_data['y_binary']\n",
    "    \n",
    "    alloc_params_fold = compute_allocation_param(train_fold_data, return_cols)\n",
    "    train_fold_data = train_fold_data.merge(alloc_params_fold[['ALLOCATION', \"mu_alloc\", \"sigma_alloc\"]], on=\"ALLOCATION\", how='left')\n",
    "    val_fold_data = val_fold_data.merge(alloc_params_fold[['ALLOCATION', \"mu_alloc\", \"sigma_alloc\"]], on=\"ALLOCATION\", how='left')\n",
    "    \n",
    "    features_to_process = ['ret_mean_5d', 'momentum_ratio_5_20', 'interaction_ret_turnover', 'mu_alloc', 'sigma_alloc', 'vol_mean_3d', 'ret_mean_20d']\n",
    "\n",
    "    \n",
    "    for feature in features_to_process:\n",
    "        market_map = train_fold_data.groupby('TS', observed=False)[feature].mean()\n",
    "        train_fold_data[f'diff_from_market_{feature}'] = train_fold_data[feature] - train_fold_data['TS'].map(market_map)\n",
    "        val_fold_data[f'diff_from_market_{feature}'] = val_fold_data[feature] - val_fold_data['TS'].map(market_map)\n",
    "        train_fold_data[f'{feature}_rank'] = train_fold_data.groupby('TS', observed=False)[feature].rank(pct=True)\n",
    "        val_fold_data[f'{feature}_rank'] = val_fold_data.groupby('TS', observed=False)[feature].rank(pct=True)\n",
    "\n",
    "    all_features_for_model = final_features_to_use + ['mu_alloc', 'sigma_alloc'] + [f'diff_from_market_{f}' for f in features_to_process] + [f'{f}_rank' for f in features_to_process]\n",
    "    \n",
    "    X_train_final = train_fold_data[all_features_for_model].copy()\n",
    "    X_val_final = val_fold_data[all_features_for_model].copy()\n",
    "    \n",
    "    X_train_final.fillna(0, inplace=True)\n",
    "    X_val_final.fillna(0, inplace=True)\n",
    "\n",
    "    categorical_features = ['ALLOCATION', 'TS']\n",
    "    model = cb.CatBoostClassifier(\n",
    "        iterations=2000, learning_rate=0.015, depth=6, l2_leaf_reg=4,\n",
    "        loss_function='Logloss', eval_metric='Accuracy',\n",
    "        random_seed=fold, verbose=0, early_stopping_rounds=150\n",
    "    )\n",
    "    model.fit(X_train_final, y_train, cat_features=categorical_features, eval_set=(X_val_final, y_val))\n",
    "    \n",
    "    val_preds_proba = model.predict_proba(X_val_final)[:, 1]\n",
    "    oof_preds_proba[val_idx] = val_preds_proba.flatten()\n",
    "    print(f\"Score du Fold {fold+1}: {accuracy_score(y_val, (val_preds_proba > 0.5).astype(int))}\")\n",
    "    \n",
    "    # X_test\n",
    "    X_test_fold = test_data.copy()\n",
    "    X_test_fold = X_test_fold.merge(alloc_params_fold[['ALLOCATION', \"mu_alloc\", \"sigma_alloc\"]], on=\"ALLOCATION\", how='left')\n",
    "    for feature in features_to_process:\n",
    "        market_map = train_fold_data.groupby('TS', observed=False)[feature].mean() # On utilise la map du train\n",
    "        X_test_fold[f'diff_from_market_{feature}'] = X_test_fold[feature] - X_test_fold['TS'].map(market_map)\n",
    "        X_test_fold[f'{feature}_rank'] = X_test_fold.groupby('TS', observed=False)[feature].rank(pct=True)\n",
    "        \n",
    "    X_test_final = X_test_fold[all_features_for_model].copy()\n",
    "    X_test_final.fillna(0, inplace=True)\n",
    "\n",
    "    preds = model.predict_proba(X_test_final)[:, 1]\n",
    "    test_preds.append(preds)\n",
    "\n",
    "final_predictions_binary = (oof_preds_proba > 0.5).astype(int)\n",
    "final_score = accuracy_score(train_data['y_binary'], final_predictions_binary)\n",
    "print(f\"Score CV global sur {N_SPLITS} Folds (avec seuil 0.5) : {final_score}\")\n"
   ]
  },
  {
   "cell_type": "code",
   "execution_count": 7,
   "id": "0f7374a0",
   "metadata": {},
   "outputs": [
    {
     "name": "stdout",
     "output_type": "stream",
     "text": [
      "                                      feature  importance\n",
      "0                                          TS   37.946455\n",
      "1                                  ALLOCATION   11.761531\n",
      "15                  diff_from_market_mu_alloc    8.744635\n",
      "22                              mu_alloc_rank    7.696413\n",
      "23                           sigma_alloc_rank    7.374690\n",
      "10                                   mu_alloc    6.147024\n",
      "2                          AVG_DAILY_TURNOVER    4.392056\n",
      "16               diff_from_market_sigma_alloc    4.220002\n",
      "11                                sigma_alloc    3.496745\n",
      "18              diff_from_market_ret_mean_20d    2.416715\n",
      "24                           vol_mean_3d_rank    1.671145\n",
      "7                                 vol_mean_3d    1.183842\n",
      "12               diff_from_market_ret_mean_5d    1.167446\n",
      "9                    interaction_ret_turnover    0.871049\n",
      "17               diff_from_market_vol_mean_3d    0.618775\n",
      "4                                  ret_std_5d    0.206240\n",
      "14  diff_from_market_interaction_ret_turnover    0.076024\n",
      "20                   momentum_ratio_5_20_rank    0.009213\n",
      "21              interaction_ret_turnover_rank    0.000000\n",
      "13       diff_from_market_momentum_ratio_5_20    0.000000\n",
      "19                           ret_mean_5d_rank    0.000000\n",
      "8                             meta_volatility    0.000000\n",
      "6                         momentum_ratio_5_20    0.000000\n",
      "5                                ret_mean_20d    0.000000\n",
      "3                                 ret_mean_5d    0.000000\n",
      "25                          ret_mean_20d_rank    0.000000\n"
     ]
    }
   ],
   "source": [
    "################ CHECKING FEATURE IMPORTANCE ################\n",
    "\n",
    "feature_importances = model.get_feature_importance()\n",
    "feature_names = model.feature_names_ \n",
    "\n",
    "importance_df = pd.DataFrame({\n",
    "    'feature': feature_names,\n",
    "    'importance': feature_importances\n",
    "}).sort_values('importance', ascending=False)\n",
    "\n",
    "print(importance_df)\n"
   ]
  },
  {
   "cell_type": "code",
   "execution_count": 9,
   "id": "776531fb",
   "metadata": {},
   "outputs": [
    {
     "name": "stdout",
     "output_type": "stream",
     "text": [
      "Meilleur score CV avec seuil optimisé : 0.5258620211378956\n",
      "Correspond à une proportion de '1' de : 0.4299999999999998\n",
      "Seuil final appliqué sur le test set : 0.4984\n",
      "Fichier de soumission créé !\n",
      "Nombre de 1 prédits : 3326 sur 7735\n"
     ]
    }
   ],
   "source": [
    "################ SUBMIT ################\n",
    "\n",
    "best_score = 0\n",
    "best_proportion = 0.5\n",
    "for proportion_to_predict_1 in np.arange(0.1, 0.9, 0.01):\n",
    "    threshold = np.quantile(oof_preds_proba, 1 - proportion_to_predict_1)\n",
    "    score = accuracy_score(train_data['y_binary'], oof_preds_proba > threshold)\n",
    "    if score > best_score:\n",
    "        best_score = score\n",
    "        best_proportion = proportion_to_predict_1\n",
    "\n",
    "print(f\"Meilleur score CV avec seuil optimisé : {best_score}\")\n",
    "print(f\"Correspond à une proportion de '1' de : {best_proportion}\")\n",
    "\n",
    "\n",
    "final_predictions_proba = np.mean(test_preds, axis=0)\n",
    "\n",
    "final_threshold = np.quantile(final_predictions_proba, 1 - best_proportion)\n",
    "\n",
    "print(f\"Seuil final appliqué sur le test set : {final_threshold:.4f}\")\n",
    "\n",
    "final_predictions = (final_predictions_proba > final_threshold).astype(int)\n",
    "\n",
    "\n",
    "submission = pd.DataFrame({'ROW_ID': test_data['ROW_ID'], 'prediction': final_predictions})\n",
    "submission.to_csv('submission20_ret20diff_vol3d.csv', index=False)\n",
    "\n",
    "print(\"Fichier de soumission créé !\")\n",
    "print(f\"Nombre de 1 prédits : {(final_predictions == 1).sum()} sur {len(final_predictions)}\")"
   ]
  },
  {
   "cell_type": "code",
   "execution_count": null,
   "id": "a25bb607",
   "metadata": {},
   "outputs": [],
   "source": [
    "/var/folders/yp/c6z3dm3s1s1dx6tz47yy15gc0000gn/T/ipykernel_25993/3182933904.py:15: FutureWarning: DataFrameGroupBy.apply operated on the grouping columns. This behavior is deprecated, and in a future version of pandas the grouping columns will be excluded from the operation. Either pass `include_groups=False` to exclude the groupings or explicitly select the grouping columns after groupby to silence this warning.\n",
    "  .apply(lambda g: mle_params_all_from_group(g, r_cols, delta_t))\n",
    "Score du Fold 1: 0.5220807969009408\n",
    "/var/folders/yp/c6z3dm3s1s1dx6tz47yy15gc0000gn/T/ipykernel_25993/3182933904.py:15: FutureWarning: DataFrameGroupBy.apply operated on the grouping columns. This behavior is deprecated, and in a future version of pandas the grouping columns will be excluded from the operation. Either pass `include_groups=False` to exclude the groupings or explicitly select the grouping columns after groupby to silence this warning.\n",
    "  .apply(lambda g: mle_params_all_from_group(g, r_cols, delta_t))\n",
    "Score du Fold 2: 0.5263973436635307\n",
    "/var/folders/yp/c6z3dm3s1s1dx6tz47yy15gc0000gn/T/ipykernel_25993/3182933904.py:15: FutureWarning: DataFrameGroupBy.apply operated on the grouping columns. This behavior is deprecated, and in a future version of pandas the grouping columns will be excluded from the operation. Either pass `include_groups=False` to exclude the groupings or explicitly select the grouping columns after groupby to silence this warning.\n",
    "  .apply(lambda g: mle_params_all_from_group(g, r_cols, delta_t))\n",
    "Score du Fold 3: 0.5291643608190371\n",
    "/var/folders/yp/c6z3dm3s1s1dx6tz47yy15gc0000gn/T/ipykernel_25993/3182933904.py:15: FutureWarning: DataFrameGroupBy.apply operated on the grouping columns. This behavior is deprecated, and in a future version of pandas the grouping columns will be excluded from the operation. Either pass `include_groups=False` to exclude the groupings or explicitly select the grouping columns after groupby to silence this warning.\n",
    "  .apply(lambda g: mle_params_all_from_group(g, r_cols, delta_t))\n",
    "Score du Fold 4: 0.5329275041505257\n",
    "/var/folders/yp/c6z3dm3s1s1dx6tz47yy15gc0000gn/T/ipykernel_25993/3182933904.py:15: FutureWarning: DataFrameGroupBy.apply operated on the grouping columns. This behavior is deprecated, and in a future version of pandas the grouping columns will be excluded from the operation. Either pass `include_groups=False` to exclude the groupings or explicitly select the grouping columns after groupby to silence this warning.\n",
    "  .apply(lambda g: mle_params_all_from_group(g, r_cols, delta_t))\n",
    "Score du Fold 5: 0.5189817376867737\n",
    "/var/folders/yp/c6z3dm3s1s1dx6tz47yy15gc0000gn/T/ipykernel_25993/3182933904.py:15: FutureWarning: DataFrameGroupBy.apply operated on the grouping columns. This behavior is deprecated, and in a future version of pandas the grouping columns will be excluded from the operation. Either pass `include_groups=False` to exclude the groupings or explicitly select the grouping columns after groupby to silence this warning.\n",
    "  .apply(lambda g: mle_params_all_from_group(g, r_cols, delta_t))\n",
    "Score du Fold 6: 0.5251798561151079\n",
    "/var/folders/yp/c6z3dm3s1s1dx6tz47yy15gc0000gn/T/ipykernel_25993/3182933904.py:15: FutureWarning: DataFrameGroupBy.apply operated on the grouping columns. This behavior is deprecated, and in a future version of pandas the grouping columns will be excluded from the operation. Either pass `include_groups=False` to exclude the groupings or explicitly select the grouping columns after groupby to silence this warning.\n",
    "  .apply(lambda g: mle_params_all_from_group(g, r_cols, delta_t))\n",
    "Score du Fold 7: 0.5227448810182623\n",
    "/var/folders/yp/c6z3dm3s1s1dx6tz47yy15gc0000gn/T/ipykernel_25993/3182933904.py:15: FutureWarning: DataFrameGroupBy.apply operated on the grouping columns. This behavior is deprecated, and in a future version of pandas the grouping columns will be excluded from the operation. Either pass `include_groups=False` to exclude the groupings or explicitly select the grouping columns after groupby to silence this warning.\n",
    "  .apply(lambda g: mle_params_all_from_group(g, r_cols, delta_t))\n",
    "Score du Fold 8: 0.5238516878804649\n",
    "/var/folders/yp/c6z3dm3s1s1dx6tz47yy15gc0000gn/T/ipykernel_25993/3182933904.py:15: FutureWarning: DataFrameGroupBy.apply operated on the grouping columns. This behavior is deprecated, and in a future version of pandas the grouping columns will be excluded from the operation. Either pass `include_groups=False` to exclude the groupings or explicitly select the grouping columns after groupby to silence this warning.\n",
    "  .apply(lambda g: mle_params_all_from_group(g, r_cols, delta_t))\n",
    "Score du Fold 9: 0.534366353071389\n",
    "/var/folders/yp/c6z3dm3s1s1dx6tz47yy15gc0000gn/T/ipykernel_25993/3182933904.py:15: FutureWarning: DataFrameGroupBy.apply operated on the grouping columns. This behavior is deprecated, and in a future version of pandas the grouping columns will be excluded from the operation. Either pass `include_groups=False` to exclude the groupings or explicitly select the grouping columns after groupby to silence this warning.\n",
    "  .apply(lambda g: mle_params_all_from_group(g, r_cols, delta_t))\n",
    "Score du Fold 10: 0.5417819590481461\n",
    "/var/folders/yp/c6z3dm3s1s1dx6tz47yy15gc0000gn/T/ipykernel_25993/3182933904.py:15: FutureWarning: DataFrameGroupBy.apply operated on the grouping columns. This behavior is deprecated, and in a future version of pandas the grouping columns will be excluded from the operation. Either pass `include_groups=False` to exclude the groupings or explicitly select the grouping columns after groupby to silence this warning.\n",
    "  .apply(lambda g: mle_params_all_from_group(g, r_cols, delta_t))\n",
    "Score du Fold 11: 0.5216380741560598\n",
    "/var/folders/yp/c6z3dm3s1s1dx6tz47yy15gc0000gn/T/ipykernel_25993/3182933904.py:15: FutureWarning: DataFrameGroupBy.apply operated on the grouping columns. This behavior is deprecated, and in a future version of pandas the grouping columns will be excluded from the operation. Either pass `include_groups=False` to exclude the groupings or explicitly select the grouping columns after groupby to silence this warning.\n",
    "  .apply(lambda g: mle_params_all_from_group(g, r_cols, delta_t))\n",
    "Score du Fold 12: 0.5123408965135584\n",
    "/var/folders/yp/c6z3dm3s1s1dx6tz47yy15gc0000gn/T/ipykernel_25993/3182933904.py:15: FutureWarning: DataFrameGroupBy.apply operated on the grouping columns. This behavior is deprecated, and in a future version of pandas the grouping columns will be excluded from the operation. Either pass `include_groups=False` to exclude the groupings or explicitly select the grouping columns after groupby to silence this warning.\n",
    "  .apply(lambda g: mle_params_all_from_group(g, r_cols, delta_t))\n",
    "Score du Fold 13: 0.5355838406198118\n",
    "/var/folders/yp/c6z3dm3s1s1dx6tz47yy15gc0000gn/T/ipykernel_25993/3182933904.py:15: FutureWarning: DataFrameGroupBy.apply operated on the grouping columns. This behavior is deprecated, and in a future version of pandas the grouping columns will be excluded from the operation. Either pass `include_groups=False` to exclude the groupings or explicitly select the grouping columns after groupby to silence this warning.\n",
    "  .apply(lambda g: mle_params_all_from_group(g, r_cols, delta_t))\n",
    "Score du Fold 14: 0.5042363433667781\n",
    "/var/folders/yp/c6z3dm3s1s1dx6tz47yy15gc0000gn/T/ipykernel_25993/3182933904.py:15: FutureWarning: DataFrameGroupBy.apply operated on the grouping columns. This behavior is deprecated, and in a future version of pandas the grouping columns will be excluded from the operation. Either pass `include_groups=False` to exclude the groupings or explicitly select the grouping columns after groupby to silence this warning.\n",
    "  .apply(lambda g: mle_params_all_from_group(g, r_cols, delta_t))\n",
    "Score du Fold 15: 0.525752508361204\n",
    "/var/folders/yp/c6z3dm3s1s1dx6tz47yy15gc0000gn/T/ipykernel_25993/3182933904.py:15: FutureWarning: DataFrameGroupBy.apply operated on the grouping columns. This behavior is deprecated, and in a future version of pandas the grouping columns will be excluded from the operation. Either pass `include_groups=False` to exclude the groupings or explicitly select the grouping columns after groupby to silence this warning.\n",
    "  .apply(lambda g: mle_params_all_from_group(g, r_cols, delta_t))\n",
    "Score du Fold 16: 0.5229654403567447\n",
    "/var/folders/yp/c6z3dm3s1s1dx6tz47yy15gc0000gn/T/ipykernel_25993/3182933904.py:15: FutureWarning: DataFrameGroupBy.apply operated on the grouping columns. This behavior is deprecated, and in a future version of pandas the grouping columns will be excluded from the operation. Either pass `include_groups=False` to exclude the groupings or explicitly select the grouping columns after groupby to silence this warning.\n",
    "  .apply(lambda g: mle_params_all_from_group(g, r_cols, delta_t))\n",
    "Score du Fold 17: 0.5324414715719064\n",
    "/var/folders/yp/c6z3dm3s1s1dx6tz47yy15gc0000gn/T/ipykernel_25993/3182933904.py:15: FutureWarning: DataFrameGroupBy.apply operated on the grouping columns. This behavior is deprecated, and in a future version of pandas the grouping columns will be excluded from the operation. Either pass `include_groups=False` to exclude the groupings or explicitly select the grouping columns after groupby to silence this warning.\n",
    "  .apply(lambda g: mle_params_all_from_group(g, r_cols, delta_t))\n",
    "Score du Fold 18: 0.5385730211817168\n",
    "/var/folders/yp/c6z3dm3s1s1dx6tz47yy15gc0000gn/T/ipykernel_25993/3182933904.py:15: FutureWarning: DataFrameGroupBy.apply operated on the grouping columns. This behavior is deprecated, and in a future version of pandas the grouping columns will be excluded from the operation. Either pass `include_groups=False` to exclude the groupings or explicitly select the grouping columns after groupby to silence this warning.\n",
    "  .apply(lambda g: mle_params_all_from_group(g, r_cols, delta_t))\n",
    "Score du Fold 19: 0.5284280936454849\n",
    "/var/folders/yp/c6z3dm3s1s1dx6tz47yy15gc0000gn/T/ipykernel_25993/3182933904.py:15: FutureWarning: DataFrameGroupBy.apply operated on the grouping columns. This behavior is deprecated, and in a future version of pandas the grouping columns will be excluded from the operation. Either pass `include_groups=False` to exclude the groupings or explicitly select the grouping columns after groupby to silence this warning.\n",
    "  .apply(lambda g: mle_params_all_from_group(g, r_cols, delta_t))\n",
    "Score du Fold 20: 0.5228539576365663\n",
    "\n",
    "Score CV global sur 20 Folds (avec seuil 0.5) : 0.52612\n",
    "\n",
    "\n",
    "\n",
    "\n",
    "                                      feature  importance\n",
    "0                                          TS   37.946455\n",
    "1                                  ALLOCATION   11.761531\n",
    "15                  diff_from_market_mu_alloc    8.744635\n",
    "22                              mu_alloc_rank    7.696413\n",
    "23                           sigma_alloc_rank    7.374690\n",
    "10                                   mu_alloc    6.147024\n",
    "2                          AVG_DAILY_TURNOVER    4.392056\n",
    "16               diff_from_market_sigma_alloc    4.220002\n",
    "11                                sigma_alloc    3.496745\n",
    "18              diff_from_market_ret_mean_20d    2.416715\n",
    "24                           vol_mean_3d_rank    1.671145\n",
    "7                                 vol_mean_3d    1.183842\n",
    "12               diff_from_market_ret_mean_5d    1.167446\n",
    "9                    interaction_ret_turnover    0.871049\n",
    "17               diff_from_market_vol_mean_3d    0.618775\n",
    "4                                  ret_std_5d    0.206240\n",
    "14  diff_from_market_interaction_ret_turnover    0.076024\n",
    "20                   momentum_ratio_5_20_rank    0.009213\n",
    "21              interaction_ret_turnover_rank    0.000000\n",
    "13       diff_from_market_momentum_ratio_5_20    0.000000\n",
    "19                           ret_mean_5d_rank    0.000000\n",
    "8                             meta_volatility    0.000000\n",
    "6                         momentum_ratio_5_20    0.000000\n",
    "5                                ret_mean_20d    0.000000\n",
    "3                                 ret_mean_5d    0.000000\n",
    "25                          ret_mean_20d_rank    0.000000\n"
   ]
  },
  {
   "cell_type": "code",
   "execution_count": null,
   "id": "db41acf2",
   "metadata": {},
   "outputs": [],
   "source": []
  }
 ],
 "metadata": {
  "kernelspec": {
   "display_name": ".venv",
   "language": "python",
   "name": "python3"
  },
  "language_info": {
   "codemirror_mode": {
    "name": "ipython",
    "version": 3
   },
   "file_extension": ".py",
   "mimetype": "text/x-python",
   "name": "python",
   "nbconvert_exporter": "python",
   "pygments_lexer": "ipython3",
   "version": "3.13.7"
  }
 },
 "nbformat": 4,
 "nbformat_minor": 5
}
