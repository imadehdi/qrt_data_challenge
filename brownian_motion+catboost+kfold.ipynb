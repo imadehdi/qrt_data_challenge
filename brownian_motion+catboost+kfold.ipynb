{
 "cells": [
  {
   "cell_type": "code",
   "execution_count": 35,
   "id": "95674f6f",
   "metadata": {},
   "outputs": [],
   "source": [
    "import pandas as pd\n",
    "import numpy as np\n",
    "import catboost as cb\n",
    "from sklearn.model_selection import GroupKFold\n",
    "from sklearn.metrics import accuracy_score\n",
    "\n",
    "X_train = pd.read_csv('X_train.csv')\n",
    "y_train = pd.read_csv('y_train.csv')\n",
    "\n",
    "train_data = X_train.merge(y_train, on='ROW_ID')\n",
    "test_data = pd.read_csv('X_test.csv')"
   ]
  },
  {
   "cell_type": "code",
   "execution_count": 36,
   "id": "3caadfb0",
   "metadata": {},
   "outputs": [],
   "source": [
    "def mle_params_all_from_group(g, r_cols, delta_t = 1.0):\n",
    "    arr = g[r_cols].to_numpy(dtype = float)\n",
    "    mean_r = arr.mean()\n",
    "    var_r = arr.var(ddof = 0)\n",
    "    sigma_hat = np.sqrt(var_r/delta_t)\n",
    "    mu_hat = (mean_r / delta_t) + 0.5 * (sigma_hat**2)\n",
    "    N_effective = arr.size\n",
    "    return pd.Series({\"mu_alloc\": mu_hat, \"sigma_alloc\": sigma_hat, \"N_effective\": N_effective})\n",
    "\n",
    "def compute_allocation_param(df, r_cols, delta_t = 1.0):\n",
    "    out = (df.groupby (\"ALLOCATION\", observed = True)\n",
    "           .apply(lambda g:mle_params_all_from_group(g, r_cols, delta_t))\n",
    "           .reset_index()\n",
    "           )\n",
    "    return out\n",
    "\n",
    "return_cols = [f'RET_{i}' for i in range(1, 21)]\n",
    "\n"
   ]
  },
  {
   "cell_type": "code",
   "execution_count": 37,
   "id": "311a878c",
   "metadata": {},
   "outputs": [
    {
     "name": "stderr",
     "output_type": "stream",
     "text": [
      "C:\\Users\\Dell\\AppData\\Local\\Temp\\ipykernel_12380\\2171627025.py:12: DeprecationWarning: DataFrameGroupBy.apply operated on the grouping columns. This behavior is deprecated, and in a future version of pandas the grouping columns will be excluded from the operation. Either pass `include_groups=False` to exclude the groupings or explicitly select the grouping columns after groupby to silence this warning.\n",
      "  .apply(lambda g:mle_params_all_from_group(g, r_cols, delta_t))\n",
      "C:\\Users\\Dell\\AppData\\Local\\Temp\\ipykernel_12380\\2171627025.py:12: DeprecationWarning: DataFrameGroupBy.apply operated on the grouping columns. This behavior is deprecated, and in a future version of pandas the grouping columns will be excluded from the operation. Either pass `include_groups=False` to exclude the groupings or explicitly select the grouping columns after groupby to silence this warning.\n",
      "  .apply(lambda g:mle_params_all_from_group(g, r_cols, delta_t))\n"
     ]
    }
   ],
   "source": [
    "alloc_train = compute_allocation_param(X_train, return_cols)\n",
    "X_train = X_train.merge(alloc_train[['ALLOCATION', \"mu_alloc\", \"sigma_alloc\"]], on = \"ALLOCATION\", how = 'left')\n",
    "train_data = X_train.merge(y_train, on = \"ROW_ID\")\n",
    "alloc_test = compute_allocation_param(test_data, return_cols)\n",
    "test_data = test_data.merge(alloc_test[['ALLOCATION', \"mu_alloc\", \"sigma_alloc\"]], on = \"ALLOCATION\", how = 'left')\n"
   ]
  },
  {
   "cell_type": "code",
   "execution_count": 38,
   "id": "a080ab32",
   "metadata": {},
   "outputs": [],
   "source": [
    "def create_all_features(df):\n",
    "    ret_cols = [f'RET_{i}' for i in range(1, 21)]\n",
    "    df['ret_mean_5d'] = df[ret_cols[:5]].mean(axis=1) \n",
    "    df['ret_std_5d'] = df[ret_cols[:5]].std(axis=1) \n",
    "    df['ret_mean_20d'] = df[ret_cols].mean(axis=1) \n",
    "    df['momentum_ratio_5_20'] = df['ret_mean_5d'] / (df['ret_mean_20d'] + 1e-6) \n",
    "    rolling_std = df[ret_cols].T.rolling(window=3).std().T # une espece de volatilité sur fenetre glissante de 3 jours\n",
    "    df['meta_volatility'] = rolling_std.std(axis=1) # la vola de cette vola : indice de stabilité\n",
    "    df['interaction_ret_turnover'] = df['ret_mean_5d'] * df['AVG_DAILY_TURNOVER']\n",
    "    return df\n",
    "\n",
    "train_data = create_all_features(train_data)\n",
    "test_data = create_all_features(test_data)\n",
    "\n",
    "\n",
    "train_data = create_all_features(train_data)\n",
    "test_data = create_all_features(test_data)\n",
    "\n",
    "\n"
   ]
  },
  {
   "cell_type": "code",
   "execution_count": 31,
   "id": "27e52242",
   "metadata": {},
   "outputs": [
    {
     "data": {
      "text/plain": [
       "Index(['ROW_ID', 'TS', 'ALLOCATION', 'RET_20', 'RET_19', 'RET_18', 'RET_17',\n",
       "       'RET_16', 'RET_15', 'RET_14', 'RET_13', 'RET_12', 'RET_11', 'RET_10',\n",
       "       'RET_9', 'RET_8', 'RET_7', 'RET_6', 'RET_5', 'RET_4', 'RET_3', 'RET_2',\n",
       "       'RET_1', 'SIGNED_VOLUME_20', 'SIGNED_VOLUME_19', 'SIGNED_VOLUME_18',\n",
       "       'SIGNED_VOLUME_17', 'SIGNED_VOLUME_16', 'SIGNED_VOLUME_15',\n",
       "       'SIGNED_VOLUME_14', 'SIGNED_VOLUME_13', 'SIGNED_VOLUME_12',\n",
       "       'SIGNED_VOLUME_11', 'SIGNED_VOLUME_10', 'SIGNED_VOLUME_9',\n",
       "       'SIGNED_VOLUME_8', 'SIGNED_VOLUME_7', 'SIGNED_VOLUME_6',\n",
       "       'SIGNED_VOLUME_5', 'SIGNED_VOLUME_4', 'SIGNED_VOLUME_3',\n",
       "       'SIGNED_VOLUME_2', 'SIGNED_VOLUME_1', 'AVG_DAILY_TURNOVER', 'mu_alloc',\n",
       "       'sigma_alloc', 'target', 'ret_mean_5d', 'ret_std_5d', 'ret_mean_20d',\n",
       "       'momentum_ratio_5_20', 'meta_volatility', 'interaction_ret_turnover'],\n",
       "      dtype='object')"
      ]
     },
     "execution_count": 44,
     "metadata": {},
     "output_type": "execute_result"
    }
   ],
   "source": [
    "train_data.columns"
   ]
  },
  {
   "cell_type": "code",
   "execution_count": 47,
   "id": "1658f7b6",
   "metadata": {},
   "outputs": [
    {
     "name": "stdout",
     "output_type": "stream",
     "text": [
      "['TS', 'ALLOCATION', 'RET_20', 'RET_19', 'RET_18', 'RET_17', 'RET_16', 'RET_15', 'RET_14', 'RET_13', 'RET_12', 'RET_11', 'RET_10', 'RET_9', 'RET_8', 'RET_7', 'RET_6', 'RET_5', 'RET_4', 'RET_3', 'RET_2', 'RET_1', 'SIGNED_VOLUME_20', 'SIGNED_VOLUME_19', 'SIGNED_VOLUME_18', 'SIGNED_VOLUME_17', 'SIGNED_VOLUME_16', 'SIGNED_VOLUME_15', 'SIGNED_VOLUME_14', 'SIGNED_VOLUME_13', 'SIGNED_VOLUME_12', 'SIGNED_VOLUME_11', 'SIGNED_VOLUME_10', 'SIGNED_VOLUME_9', 'SIGNED_VOLUME_8', 'SIGNED_VOLUME_7', 'SIGNED_VOLUME_6', 'SIGNED_VOLUME_5', 'SIGNED_VOLUME_4', 'SIGNED_VOLUME_3', 'SIGNED_VOLUME_2', 'SIGNED_VOLUME_1', 'AVG_DAILY_TURNOVER', 'mu_alloc', 'sigma_alloc', 'ret_mean_5d', 'ret_std_5d', 'ret_mean_20d', 'momentum_ratio_5_20', 'meta_volatility', 'interaction_ret_turnover']\n",
      "Score du Fold 1: 0.5368013281682347\n",
      "Score du Fold 2: 0.5158826784726065\n"
     ]
    },
    {
     "ename": "KeyboardInterrupt",
     "evalue": "",
     "output_type": "error",
     "traceback": [
      "\u001b[31m---------------------------------------------------------------------------\u001b[39m",
      "\u001b[31mKeyboardInterrupt\u001b[39m                         Traceback (most recent call last)",
      "\u001b[36mCell\u001b[39m\u001b[36m \u001b[39m\u001b[32mIn[47]\u001b[39m\u001b[32m, line 46\u001b[39m\n\u001b[32m     40\u001b[39m \u001b[38;5;66;03m# TO DO : Optuna ?\u001b[39;00m\n\u001b[32m     41\u001b[39m model = cb.CatBoostClassifier(\n\u001b[32m     42\u001b[39m     iterations=\u001b[32m2000\u001b[39m, learning_rate=\u001b[32m0.015\u001b[39m, depth=\u001b[32m6\u001b[39m, l2_leaf_reg=\u001b[32m4\u001b[39m,\n\u001b[32m     43\u001b[39m     loss_function=\u001b[33m'\u001b[39m\u001b[33mLogloss\u001b[39m\u001b[33m'\u001b[39m, eval_metric=\u001b[33m'\u001b[39m\u001b[33mAccuracy\u001b[39m\u001b[33m'\u001b[39m,\n\u001b[32m     44\u001b[39m     random_seed=fold, verbose=\u001b[32m0\u001b[39m, early_stopping_rounds=\u001b[32m150\u001b[39m\n\u001b[32m     45\u001b[39m )\n\u001b[32m---> \u001b[39m\u001b[32m46\u001b[39m \u001b[43mmodel\u001b[49m\u001b[43m.\u001b[49m\u001b[43mfit\u001b[49m\u001b[43m(\u001b[49m\u001b[43mX_train\u001b[49m\u001b[43m,\u001b[49m\u001b[43m \u001b[49m\u001b[43my_train\u001b[49m\u001b[43m,\u001b[49m\u001b[43m \u001b[49m\u001b[43mcat_features\u001b[49m\u001b[43m=\u001b[49m\u001b[43mcategorical_features\u001b[49m\u001b[43m,\u001b[49m\u001b[43m \u001b[49m\u001b[43meval_set\u001b[49m\u001b[43m=\u001b[49m\u001b[43m(\u001b[49m\u001b[43mX_val\u001b[49m\u001b[43m,\u001b[49m\u001b[43m \u001b[49m\u001b[43my_val\u001b[49m\u001b[43m)\u001b[49m\u001b[43m)\u001b[49m\n\u001b[32m     48\u001b[39m val_preds = model.predict(X_val)\n\u001b[32m     49\u001b[39m oof_preds[val_idx] = val_preds.flatten()\n",
      "\u001b[36mFile \u001b[39m\u001b[32mc:\\Users\\Dell\\AppData\\Local\\Programs\\Python\\Python311\\Lib\\site-packages\\catboost\\core.py:5245\u001b[39m, in \u001b[36mCatBoostClassifier.fit\u001b[39m\u001b[34m(self, X, y, cat_features, text_features, embedding_features, graph, sample_weight, baseline, use_best_model, eval_set, verbose, logging_level, plot, plot_file, column_description, verbose_eval, metric_period, silent, early_stopping_rounds, save_snapshot, snapshot_file, snapshot_interval, init_model, callbacks, log_cout, log_cerr)\u001b[39m\n\u001b[32m   5242\u001b[39m \u001b[38;5;28;01mif\u001b[39;00m \u001b[33m'\u001b[39m\u001b[33mloss_function\u001b[39m\u001b[33m'\u001b[39m \u001b[38;5;129;01min\u001b[39;00m params:\n\u001b[32m   5243\u001b[39m     CatBoostClassifier._check_is_compatible_loss(params[\u001b[33m'\u001b[39m\u001b[33mloss_function\u001b[39m\u001b[33m'\u001b[39m])\n\u001b[32m-> \u001b[39m\u001b[32m5245\u001b[39m \u001b[38;5;28;43mself\u001b[39;49m\u001b[43m.\u001b[49m\u001b[43m_fit\u001b[49m\u001b[43m(\u001b[49m\u001b[43mX\u001b[49m\u001b[43m,\u001b[49m\u001b[43m \u001b[49m\u001b[43my\u001b[49m\u001b[43m,\u001b[49m\u001b[43m \u001b[49m\u001b[43mcat_features\u001b[49m\u001b[43m,\u001b[49m\u001b[43m \u001b[49m\u001b[43mtext_features\u001b[49m\u001b[43m,\u001b[49m\u001b[43m \u001b[49m\u001b[43membedding_features\u001b[49m\u001b[43m,\u001b[49m\u001b[43m \u001b[49m\u001b[38;5;28;43;01mNone\u001b[39;49;00m\u001b[43m,\u001b[49m\u001b[43m \u001b[49m\u001b[43mgraph\u001b[49m\u001b[43m,\u001b[49m\u001b[43m \u001b[49m\u001b[43msample_weight\u001b[49m\u001b[43m,\u001b[49m\u001b[43m \u001b[49m\u001b[38;5;28;43;01mNone\u001b[39;49;00m\u001b[43m,\u001b[49m\u001b[43m \u001b[49m\u001b[38;5;28;43;01mNone\u001b[39;49;00m\u001b[43m,\u001b[49m\u001b[43m \u001b[49m\u001b[38;5;28;43;01mNone\u001b[39;49;00m\u001b[43m,\u001b[49m\u001b[43m \u001b[49m\u001b[38;5;28;43;01mNone\u001b[39;49;00m\u001b[43m,\u001b[49m\u001b[43m \u001b[49m\u001b[43mbaseline\u001b[49m\u001b[43m,\u001b[49m\u001b[43m \u001b[49m\u001b[43muse_best_model\u001b[49m\u001b[43m,\u001b[49m\n\u001b[32m   5246\u001b[39m \u001b[43m          \u001b[49m\u001b[43meval_set\u001b[49m\u001b[43m,\u001b[49m\u001b[43m \u001b[49m\u001b[43mverbose\u001b[49m\u001b[43m,\u001b[49m\u001b[43m \u001b[49m\u001b[43mlogging_level\u001b[49m\u001b[43m,\u001b[49m\u001b[43m \u001b[49m\u001b[43mplot\u001b[49m\u001b[43m,\u001b[49m\u001b[43m \u001b[49m\u001b[43mplot_file\u001b[49m\u001b[43m,\u001b[49m\u001b[43m \u001b[49m\u001b[43mcolumn_description\u001b[49m\u001b[43m,\u001b[49m\u001b[43m \u001b[49m\u001b[43mverbose_eval\u001b[49m\u001b[43m,\u001b[49m\u001b[43m \u001b[49m\u001b[43mmetric_period\u001b[49m\u001b[43m,\u001b[49m\n\u001b[32m   5247\u001b[39m \u001b[43m          \u001b[49m\u001b[43msilent\u001b[49m\u001b[43m,\u001b[49m\u001b[43m \u001b[49m\u001b[43mearly_stopping_rounds\u001b[49m\u001b[43m,\u001b[49m\u001b[43m \u001b[49m\u001b[43msave_snapshot\u001b[49m\u001b[43m,\u001b[49m\u001b[43m \u001b[49m\u001b[43msnapshot_file\u001b[49m\u001b[43m,\u001b[49m\u001b[43m \u001b[49m\u001b[43msnapshot_interval\u001b[49m\u001b[43m,\u001b[49m\u001b[43m \u001b[49m\u001b[43minit_model\u001b[49m\u001b[43m,\u001b[49m\u001b[43m \u001b[49m\u001b[43mcallbacks\u001b[49m\u001b[43m,\u001b[49m\u001b[43m \u001b[49m\u001b[43mlog_cout\u001b[49m\u001b[43m,\u001b[49m\u001b[43m \u001b[49m\u001b[43mlog_cerr\u001b[49m\u001b[43m)\u001b[49m\n\u001b[32m   5248\u001b[39m \u001b[38;5;28;01mreturn\u001b[39;00m \u001b[38;5;28mself\u001b[39m\n",
      "\u001b[36mFile \u001b[39m\u001b[32mc:\\Users\\Dell\\AppData\\Local\\Programs\\Python\\Python311\\Lib\\site-packages\\catboost\\core.py:2410\u001b[39m, in \u001b[36mCatBoost._fit\u001b[39m\u001b[34m(self, X, y, cat_features, text_features, embedding_features, pairs, graph, sample_weight, group_id, group_weight, subgroup_id, pairs_weight, baseline, use_best_model, eval_set, verbose, logging_level, plot, plot_file, column_description, verbose_eval, metric_period, silent, early_stopping_rounds, save_snapshot, snapshot_file, snapshot_interval, init_model, callbacks, log_cout, log_cerr)\u001b[39m\n\u001b[32m   2407\u001b[39m allow_clear_pool = train_params[\u001b[33m\"\u001b[39m\u001b[33mallow_clear_pool\u001b[39m\u001b[33m\"\u001b[39m]\n\u001b[32m   2409\u001b[39m \u001b[38;5;28;01mwith\u001b[39;00m plot_wrapper(plot, plot_file, \u001b[33m'\u001b[39m\u001b[33mTraining plots\u001b[39m\u001b[33m'\u001b[39m, [_get_train_dir(\u001b[38;5;28mself\u001b[39m.get_params())]):\n\u001b[32m-> \u001b[39m\u001b[32m2410\u001b[39m     \u001b[38;5;28;43mself\u001b[39;49m\u001b[43m.\u001b[49m\u001b[43m_train\u001b[49m\u001b[43m(\u001b[49m\n\u001b[32m   2411\u001b[39m \u001b[43m        \u001b[49m\u001b[43mtrain_pool\u001b[49m\u001b[43m,\u001b[49m\n\u001b[32m   2412\u001b[39m \u001b[43m        \u001b[49m\u001b[43mtrain_params\u001b[49m\u001b[43m[\u001b[49m\u001b[33;43m\"\u001b[39;49m\u001b[33;43meval_sets\u001b[39;49m\u001b[33;43m\"\u001b[39;49m\u001b[43m]\u001b[49m\u001b[43m,\u001b[49m\n\u001b[32m   2413\u001b[39m \u001b[43m        \u001b[49m\u001b[43mparams\u001b[49m\u001b[43m,\u001b[49m\n\u001b[32m   2414\u001b[39m \u001b[43m        \u001b[49m\u001b[43mallow_clear_pool\u001b[49m\u001b[43m,\u001b[49m\n\u001b[32m   2415\u001b[39m \u001b[43m        \u001b[49m\u001b[43mtrain_params\u001b[49m\u001b[43m[\u001b[49m\u001b[33;43m\"\u001b[39;49m\u001b[33;43minit_model\u001b[39;49m\u001b[33;43m\"\u001b[39;49m\u001b[43m]\u001b[49m\n\u001b[32m   2416\u001b[39m \u001b[43m    \u001b[49m\u001b[43m)\u001b[49m\n\u001b[32m   2418\u001b[39m \u001b[38;5;66;03m# Have property feature_importance possibly set\u001b[39;00m\n\u001b[32m   2419\u001b[39m loss = \u001b[38;5;28mself\u001b[39m._object._get_loss_function_name()\n",
      "\u001b[36mFile \u001b[39m\u001b[32mc:\\Users\\Dell\\AppData\\Local\\Programs\\Python\\Python311\\Lib\\site-packages\\catboost\\core.py:1790\u001b[39m, in \u001b[36m_CatBoostBase._train\u001b[39m\u001b[34m(self, train_pool, test_pool, params, allow_clear_pool, init_model)\u001b[39m\n\u001b[32m   1789\u001b[39m \u001b[38;5;28;01mdef\u001b[39;00m\u001b[38;5;250m \u001b[39m\u001b[34m_train\u001b[39m(\u001b[38;5;28mself\u001b[39m, train_pool, test_pool, params, allow_clear_pool, init_model):\n\u001b[32m-> \u001b[39m\u001b[32m1790\u001b[39m     \u001b[38;5;28;43mself\u001b[39;49m\u001b[43m.\u001b[49m\u001b[43m_object\u001b[49m\u001b[43m.\u001b[49m\u001b[43m_train\u001b[49m\u001b[43m(\u001b[49m\u001b[43mtrain_pool\u001b[49m\u001b[43m,\u001b[49m\u001b[43m \u001b[49m\u001b[43mtest_pool\u001b[49m\u001b[43m,\u001b[49m\u001b[43m \u001b[49m\u001b[43mparams\u001b[49m\u001b[43m,\u001b[49m\u001b[43m \u001b[49m\u001b[43mallow_clear_pool\u001b[49m\u001b[43m,\u001b[49m\u001b[43m \u001b[49m\u001b[43minit_model\u001b[49m\u001b[43m.\u001b[49m\u001b[43m_object\u001b[49m\u001b[43m \u001b[49m\u001b[38;5;28;43;01mif\u001b[39;49;00m\u001b[43m \u001b[49m\u001b[43minit_model\u001b[49m\u001b[43m \u001b[49m\u001b[38;5;28;43;01melse\u001b[39;49;00m\u001b[43m \u001b[49m\u001b[38;5;28;43;01mNone\u001b[39;49;00m\u001b[43m)\u001b[49m\n\u001b[32m   1791\u001b[39m     \u001b[38;5;28mself\u001b[39m._set_trained_model_attributes()\n",
      "\u001b[36mFile \u001b[39m\u001b[32m_catboost.pyx:5023\u001b[39m, in \u001b[36m_catboost._CatBoost._train\u001b[39m\u001b[34m()\u001b[39m\n",
      "\u001b[36mFile \u001b[39m\u001b[32m_catboost.pyx:5072\u001b[39m, in \u001b[36m_catboost._CatBoost._train\u001b[39m\u001b[34m()\u001b[39m\n",
      "\u001b[31mKeyboardInterrupt\u001b[39m: "
     ]
    }
   ],
   "source": [
    "################ TRAINING ################\n",
    "\n",
    "train_data['y_binary'] = (train_data['target'] > 0).astype(int)\n",
    "\n",
    "# features = les RET_i + les SIGNED_VOLUME_i + ds la partie FEATURES\n",
    "original_ts_cols = [f'RET_{i}' for i in range(1, 21)]\n",
    "features_to_use = [col for col in train_data.columns if col not in (['ROW_ID', 'target', 'y_binary'] )]\n",
    "\n",
    "X = train_data[features_to_use].copy()\n",
    "y = train_data['y_binary']\n",
    "groups = train_data['TS']\n",
    "X_test = test_data[features_to_use].copy()\n",
    "\n",
    "X.fillna(0, inplace=True)\n",
    "X_test.fillna(0, inplace=True)\n",
    "\n",
    "print(features_to_use)\n",
    "N_SPLITS = 20 # TO CHECK : à augmenter? \n",
    "gkf = GroupKFold(n_splits=N_SPLITS)\n",
    "test_preds = []\n",
    "oof_preds = np.zeros(len(X))\n",
    "\n",
    "for fold, (train_idx, val_idx) in enumerate(gkf.split(X, y, groups=groups)):\n",
    "    X_train, y_train = X.iloc[train_idx].copy(), y.iloc[train_idx].copy()\n",
    "    X_val, y_val = X.iloc[val_idx].copy(), y.iloc[val_idx].copy()\n",
    "    \n",
    "    features_to_process = ['ret_mean_5d', 'momentum_ratio_5_20', 'interaction_ret_turnover', 'mu_alloc', 'sigma_alloc']\n",
    "    for feature in features_to_process:\n",
    "        market_map = X_train.groupby('TS')[feature].mean()\n",
    "        # ici on va comparer X_train à toutes les lignes d'une meme TS \n",
    "        X_train[f'diff_from_market_{feature}'] = X_train[feature] - X_train['TS'].map(market_map)\n",
    "        X_val[f'diff_from_market_{feature}'] = X_val[feature] - X_val['TS'].map(market_map)\n",
    "        X_train[f'{feature}_rank'] = X_train.groupby('TS')[feature].rank(pct=True)\n",
    "        X_val[f'{feature}_rank'] = X_val.groupby('TS')[feature].rank(pct=True)\n",
    "\n",
    "    X_train.fillna(0, inplace=True)\n",
    "    X_val.fillna(0, inplace=True)\n",
    "    \n",
    "    categorical_features = ['ALLOCATION', 'TS']\n",
    "    # TO DO : Optuna ?\n",
    "    model = cb.CatBoostClassifier(\n",
    "        iterations=2000, learning_rate=0.015, depth=6, l2_leaf_reg=4,\n",
    "        loss_function='Logloss', eval_metric='Accuracy',\n",
    "        random_seed=fold, verbose=0, early_stopping_rounds=150\n",
    "    )\n",
    "    model.fit(X_train, y_train, cat_features=categorical_features, eval_set=(X_val, y_val))\n",
    "    \n",
    "    val_preds = model.predict(X_val)\n",
    "    oof_preds[val_idx] = val_preds.flatten()\n",
    "    print(f\"Score du Fold {fold+1}: {accuracy_score(y_val, val_preds)}\")\n",
    "    \n",
    "    # pareil pour X_test\n",
    "    X_test_fold = X_test.copy()\n",
    "    for feature in features_to_process:\n",
    "        market_map = X_train.groupby('TS')[feature].mean()\n",
    "        X_test_fold[f'diff_from_market_{feature}'] = X_test_fold[feature] - X_test_fold['TS'].map(market_map)\n",
    "        X_test_fold[f'{feature}_rank'] = X_test_fold.groupby('TS')[feature].rank(pct=True)\n",
    "    X_test_fold.fillna(0, inplace=True)\n",
    "\n",
    "    preds = model.predict_proba(X_test_fold)[:, 1]\n",
    "    test_preds.append(preds)\n",
    "\n",
    "final_score = accuracy_score(y, oof_preds)\n",
    "print(f\"Score CV global sur {N_SPLITS} Folds : {final_score}\")"
   ]
  },
  {
   "cell_type": "code",
   "execution_count": 33,
   "id": "760c4f9f",
   "metadata": {},
   "outputs": [
    {
     "name": "stdout",
     "output_type": "stream",
     "text": [
      "                                      feature  importance\n",
      "0                                          TS   53.041904\n",
      "44                                sigma_alloc   21.500952\n",
      "1                                  ALLOCATION   19.069427\n",
      "42                         AVG_DAILY_TURNOVER    6.387717\n",
      "4                                      RET_18    0.000000\n",
      "5                                      RET_17    0.000000\n",
      "6                                      RET_16    0.000000\n",
      "7                                      RET_15    0.000000\n",
      "8                                      RET_14    0.000000\n",
      "9                                      RET_13    0.000000\n",
      "2                                      RET_20    0.000000\n",
      "3                                      RET_19    0.000000\n",
      "12                                     RET_10    0.000000\n",
      "13                                      RET_9    0.000000\n",
      "14                                      RET_8    0.000000\n",
      "15                                      RET_7    0.000000\n",
      "16                                      RET_6    0.000000\n",
      "17                                      RET_5    0.000000\n",
      "18                                      RET_4    0.000000\n",
      "19                                      RET_3    0.000000\n",
      "20                                      RET_2    0.000000\n",
      "21                                      RET_1    0.000000\n",
      "22                           SIGNED_VOLUME_20    0.000000\n",
      "23                           SIGNED_VOLUME_19    0.000000\n",
      "24                           SIGNED_VOLUME_18    0.000000\n",
      "25                           SIGNED_VOLUME_17    0.000000\n",
      "10                                     RET_12    0.000000\n",
      "11                                     RET_11    0.000000\n",
      "27                           SIGNED_VOLUME_15    0.000000\n",
      "26                           SIGNED_VOLUME_16    0.000000\n",
      "30                           SIGNED_VOLUME_12    0.000000\n",
      "28                           SIGNED_VOLUME_14    0.000000\n",
      "32                           SIGNED_VOLUME_10    0.000000\n",
      "33                            SIGNED_VOLUME_9    0.000000\n",
      "34                            SIGNED_VOLUME_8    0.000000\n",
      "29                           SIGNED_VOLUME_13    0.000000\n",
      "35                            SIGNED_VOLUME_7    0.000000\n",
      "36                            SIGNED_VOLUME_6    0.000000\n",
      "38                            SIGNED_VOLUME_4    0.000000\n",
      "37                            SIGNED_VOLUME_5    0.000000\n",
      "39                            SIGNED_VOLUME_3    0.000000\n",
      "40                            SIGNED_VOLUME_2    0.000000\n",
      "41                            SIGNED_VOLUME_1    0.000000\n",
      "31                           SIGNED_VOLUME_11    0.000000\n",
      "43                                   mu_alloc    0.000000\n",
      "45                               ret_mean_10d    0.000000\n",
      "46                               ret_mean_20d    0.000000\n",
      "47                       momentum_ratio_10_20    0.000000\n",
      "48                            meta_volatility    0.000000\n",
      "49                   interaction_ret_turnover    0.000000\n",
      "50              diff_from_market_ret_mean_10d    0.000000\n",
      "51                          ret_mean_10d_rank    0.000000\n",
      "52      diff_from_market_momentum_ratio_10_20    0.000000\n",
      "53                  momentum_ratio_10_20_rank    0.000000\n",
      "54  diff_from_market_interaction_ret_turnover    0.000000\n",
      "55              interaction_ret_turnover_rank    0.000000\n",
      "56                  diff_from_market_mu_alloc    0.000000\n",
      "57                              mu_alloc_rank    0.000000\n",
      "58               diff_from_market_sigma_alloc    0.000000\n",
      "59                           sigma_alloc_rank    0.000000\n"
     ]
    }
   ],
   "source": [
    "feature_importances = model.get_feature_importance()\n",
    "importance_df = pd.DataFrame({\n",
    "    'feature': model.feature_names_,\n",
    "    'importance': feature_importances\n",
    "}).sort_values('importance', ascending=False)\n",
    "\n",
    "print(importance_df)"
   ]
  },
  {
   "cell_type": "code",
   "execution_count": 34,
   "id": "466c6b8a",
   "metadata": {},
   "outputs": [],
   "source": [
    "final_predictions_proba = np.mean(test_preds, axis=0)\n",
    "final_predictions = (final_predictions_proba > 0.5).astype(int)\n",
    "\n",
    "submission = pd.DataFrame({'ROW_ID': test_data['ROW_ID'], 'prediction': final_predictions})\n",
    "\n",
    "submission.to_csv('C:/Users/Dell/Desktop/update_submission_gbm_catboost.csv', index=False)"
   ]
  }
 ],
 "metadata": {
  "kernelspec": {
   "display_name": "Python 3",
   "language": "python",
   "name": "python3"
  },
  "language_info": {
   "codemirror_mode": {
    "name": "ipython",
    "version": 3
   },
   "file_extension": ".py",
   "mimetype": "text/x-python",
   "name": "python",
   "nbconvert_exporter": "python",
   "pygments_lexer": "ipython3",
   "version": "3.11.0"
  }
 },
 "nbformat": 4,
 "nbformat_minor": 5
}
